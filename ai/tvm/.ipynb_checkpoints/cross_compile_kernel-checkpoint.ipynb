{
 "cells": [
  {
   "cell_type": "code",
   "execution_count": 22,
   "id": "7d16212b",
   "metadata": {},
   "outputs": [
    {
     "name": "stdout",
     "output_type": "stream",
     "text": [
      "<tvm.runtime.packed_func.PackedFunc object at 0x7f4cf00f8e80>\n",
      "<tvm.runtime.packed_func.PackedFunc object at 0x7f4cf00dcc00>\n",
      "1.304e-07 secs/op\n"
     ]
    }
   ],
   "source": [
    "import numpy as np\n",
    "\n",
    "import tvm\n",
    "from tvm import te\n",
    "from tvm import rpc\n",
    "from tvm.contrib import utils\n",
    "\n",
    "n = tvm.runtime.convert(1024)\n",
    "A = te.placeholder((n,), name=\"A\")\n",
    "B = te.compute((n,), lambda i: A[i] + 1.0, name=\"B\")\n",
    "s = te.create_schedule(B.op)\n",
    "\n",
    "local_demo = True\n",
    "\n",
    "if local_demo:\n",
    "    target = \"llvm\"\n",
    "else:\n",
    "    target = \"llvm -mtriple=armv7l-linux-gnueabihf\"\n",
    "    \n",
    "func = tvm.build(s, [A, B], target=target, name=\"add_one\")\n",
    "print(func.get_function(\"add_one\"))\n",
    "print(func.get_source())\n",
    "path = \"./tvm_test_lib.tar\"\n",
    "func.export_library(path)\n",
    "\n",
    "if local_demo:\n",
    "    remote = rpc.LocalSession()\n",
    "else:\n",
    "    host = \"192.168.1.111\"\n",
    "    port = 9090\n",
    "    remote = rpc.connect(host, port)\n",
    "    \n",
    "remote.upload(path)\n",
    "func = remote.load_module(\"tvm_test_lib.tar\")\n",
    "print(func.get_function(\"add_one\"))\n",
    "dev = remote.cpu()\n",
    "a = tvm.nd.array(np.random.uniform(size=1024).astype(A.dtype), dev)\n",
    "b = tvm.nd.array(np.zeros(1024, dtype=A.dtype), dev)\n",
    "func(a, b)\n",
    "np.testing.assert_equal(b.numpy(), a.numpy() + 1)\n",
    "\n",
    "time_f = func.time_evaluator(func.entry_name, dev, number=10)\n",
    "cost = time_f(a, b).mean\n",
    "print(\"%g secs/op\" % cost)"
   ]
  },
  {
   "cell_type": "code",
   "execution_count": null,
   "id": "7459cf66",
   "metadata": {},
   "outputs": [],
   "source": []
  },
  {
   "cell_type": "code",
   "execution_count": null,
   "id": "7ce19097",
   "metadata": {},
   "outputs": [],
   "source": []
  },
  {
   "cell_type": "code",
   "execution_count": null,
   "id": "b4aecab6",
   "metadata": {},
   "outputs": [],
   "source": []
  }
 ],
 "metadata": {
  "kernelspec": {
   "display_name": "Python 3",
   "language": "python",
   "name": "python3"
  },
  "language_info": {
   "codemirror_mode": {
    "name": "ipython",
    "version": 3
   },
   "file_extension": ".py",
   "mimetype": "text/x-python",
   "name": "python",
   "nbconvert_exporter": "python",
   "pygments_lexer": "ipython3",
   "version": "3.8.10"
  }
 },
 "nbformat": 4,
 "nbformat_minor": 5
}
